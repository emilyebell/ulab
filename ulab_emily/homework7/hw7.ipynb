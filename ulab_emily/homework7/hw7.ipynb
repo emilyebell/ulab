{
 "cells": [
  {
   "cell_type": "markdown",
   "id": "21a1f0d2-d75c-4443-b816-1d1db3760454",
   "metadata": {},
   "source": [
    "# HW 7 - Libraries + Modules\n",
    "ULAB - Physics and Astronomy Division \\\n",
    "Due **Wednesday, November 6th, 2024 at 11:59pm** on Gradescope\n",
    "\n",
    "--------------------------------------------------------------\n",
    "\n",
    "## Module vs. Package vs. Library\n",
    "### Module\n",
    "A **module** is a single file containing Python code (typically ending in a `.py` extension) that contains functions and variables. \n",
    "- They can be imported into other Python files or notebooks\n",
    "- You use modules to organize code into smaller, reuseable parts\n",
    "- Ex: `even_sum.py` that we created during lecture.\n",
    "\n",
    "*You will create your OWN module for this homework and use that we made during class.*\n",
    "\n",
    "### Package\n",
    "A **package** is a group of modules, organized like a directory. \n",
    "- A package requires a special `__init__.py` file to tell Python that the ENTIRE directory is something you would like to import.\n",
    "- Packages can contain sub-pacakges\n",
    "- Ex: `BAGLE_Microlensing` is an example of a package (if you are in Dex's group, this should be familar to you). Or you could think of `paarti` if you are in Brianna's group.\n",
    "\n",
    "*You will NOT be working with a package for this homework.*\n",
    "\n",
    "### Library\n",
    "A **library** is a much broader term that also refers to a collection of modules (like a package) but a library can also contain mulitple packages. \n",
    "- Libraries serve a much wider range of functionality for\n",
    "- Programmers use packages to have ready-to-go tools that can be used for data manipulation, web development, machine learning or simulations.\n",
    "- Ex: `numpy` is a very common library. Later in this course we will also be working some of the following libraries `matplotlib`, `scipy`, and `astropy`, `pandas`, etc\n",
    "\n",
    "*You WILL be working with the extensive numpy library for this homework!*\n",
    "\n",
    "--------------------------------------------------------------"
   ]
  },
  {
   "cell_type": "markdown",
   "id": "8dc7e46b-1e8e-486c-a2e9-d615c687028b",
   "metadata": {},
   "source": [
    "# 1 NumPy\n",
    "**NumPy** (aka Numerical Python) is a library that was designed for caring out computations in Python. \n",
    "\n",
    "We did not have a ton of time to work through examples during class, so I will ask that you check out this website for more information: https://numpy.org/doc/ \n",
    "\n",
    "Before we can work through any problems, you need to call the following in your notebook:"
   ]
  },
  {
   "cell_type": "code",
   "execution_count": 1,
   "id": "08dabd73-3dbc-4aab-843a-d4b81102835d",
   "metadata": {
    "tags": []
   },
   "outputs": [],
   "source": [
    "import numpy as np"
   ]
  },
  {
   "cell_type": "markdown",
   "id": "92c77920-20fc-455e-bf52-10b5a518ed2d",
   "metadata": {},
   "source": [
    "## 1.1 Lists vs. Arrays\n",
    "*When I first started working with NumPy I didn't understand what was so special about arrays. This homework problem should help illustrate the difference. Make sure to follow each step and follow good coding practices.*\n",
    "\n",
    "1) Make a list called `my_list` and make an array called `my_arr` with the same values. There is an example below, but don't copy mine! Ex:\n",
    "```\n",
    "my_list = [11, 12, 13, 14, 15]\n",
    "my_arr = np.array([11, 12, 13, 14, 15])\n",
    "```\n",
    "*Notice that to use the `numpy` package we had to call its short cut `np` and then call upon its funciton `.array()`. This is similar to working with a built-in python function like `.append()`.*"
   ]
  },
  {
   "cell_type": "code",
   "execution_count": 2,
   "id": "494f31ac-a231-4f65-b202-e85208d6bee4",
   "metadata": {
    "tags": []
   },
   "outputs": [],
   "source": [
    "# Your code here\n",
    "\n",
    "my_list = [3, 4, 5, 6, 7]\n",
    "my_arr = np.array([18, 17, 16, 15, 14])"
   ]
  },
  {
   "cell_type": "markdown",
   "id": "861d42c4-411e-4ef9-b85c-68e1f61c4fcb",
   "metadata": {},
   "source": [
    "2) Multiply `my_list` by 4 and multiply `my_arr` by 4. Print the results. Describe what happens in a comment."
   ]
  },
  {
   "cell_type": "code",
   "execution_count": 5,
   "id": "79245f57-3a83-4300-96d2-ea7a9035d3eb",
   "metadata": {
    "tags": []
   },
   "outputs": [
    {
     "name": "stdout",
     "output_type": "stream",
     "text": [
      "[3, 4, 5, 6, 7, 3, 4, 5, 6, 7, 3, 4, 5, 6, 7, 3, 4, 5, 6, 7]\n",
      "[72 68 64 60 56]\n"
     ]
    }
   ],
   "source": [
    "# Your code here\n",
    "\n",
    "print(my_list * 4) # repeats the list 4 times in a new list\n",
    "print(my_arr * 4) # multiplies each element by 4"
   ]
  },
  {
   "cell_type": "markdown",
   "id": "aa2dc2fb-7a26-42e8-90db-18d1598f4d7c",
   "metadata": {},
   "source": [
    "3) Add `my_list` with `my_list`. Add `my_arr` with `my_arr`. Add `my_list` with `my_arr`. Print the results. Describe what happens in a comment."
   ]
  },
  {
   "cell_type": "code",
   "execution_count": 11,
   "id": "9f18f22e-3137-4aa9-b623-6d2c0caec4c3",
   "metadata": {
    "tags": []
   },
   "outputs": [
    {
     "name": "stdout",
     "output_type": "stream",
     "text": [
      "[3, 4, 5, 6, 7, 3, 4, 5, 6, 7]\n",
      "[36 34 32 30 28]\n",
      "[21 21 21 21 21]\n"
     ]
    }
   ],
   "source": [
    "# Your code here\n",
    "\n",
    "print(my_list + my_list) # prints a new list with 2 copies of my_list\n",
    "print(my_arr + my_arr) # adds arrays element-wise\n",
    "print(my_list + my_arr) # because both the list and the array have the same number of elements they can be added and result in element-wise addition"
   ]
  },
  {
   "cell_type": "markdown",
   "id": "3be18720-756f-43d1-bad7-bd85e138ef7e",
   "metadata": {},
   "source": [
    "4) Subtract `my_list` with `my_list`. Subtract `my_arr` with `my_arr`. Subtract `my_list` with `my_arr`. Print the results. Describe what happens in a comment."
   ]
  },
  {
   "cell_type": "code",
   "execution_count": 14,
   "id": "131b09c8-d352-4566-b710-31316483ae89",
   "metadata": {
    "tags": []
   },
   "outputs": [
    {
     "name": "stdout",
     "output_type": "stream",
     "text": [
      "[0 0 0 0 0]\n",
      "[-15 -13 -11  -9  -7]\n"
     ]
    },
    {
     "ename": "TypeError",
     "evalue": "unsupported operand type(s) for -: 'list' and 'list'",
     "output_type": "error",
     "traceback": [
      "\u001b[0;31m---------------------------------------------------------------------------\u001b[0m",
      "\u001b[0;31mTypeError\u001b[0m                                 Traceback (most recent call last)",
      "Cell \u001b[0;32mIn[14], line 5\u001b[0m\n\u001b[1;32m      3\u001b[0m \u001b[38;5;28mprint\u001b[39m(my_arr \u001b[38;5;241m-\u001b[39m my_arr) \u001b[38;5;66;03m# subtracts arrays element-wise\u001b[39;00m\n\u001b[1;32m      4\u001b[0m \u001b[38;5;28mprint\u001b[39m(my_list \u001b[38;5;241m-\u001b[39m my_arr) \u001b[38;5;66;03m# subtracts the list and array element-wise\u001b[39;00m\n\u001b[0;32m----> 5\u001b[0m \u001b[38;5;28mprint\u001b[39m(my_list \u001b[38;5;241m-\u001b[39m my_list)\n",
      "\u001b[0;31mTypeError\u001b[0m: unsupported operand type(s) for -: 'list' and 'list'"
     ]
    }
   ],
   "source": [
    "# Your code here\n",
    "\n",
    "print(my_arr - my_arr) # subtracts arrays element-wise\n",
    "print(my_list - my_arr) # subtracts the list and array element-wise\n",
    "print(my_list - my_list) # presents a type error because - is not defined for lists"
   ]
  },
  {
   "cell_type": "markdown",
   "id": "9089eff6-4251-4a52-b263-c77b11343ece",
   "metadata": {},
   "source": [
    "5) Multiply `my_list` with `my_list`. Multply `my_arr` with `my_arr`. Multiply `my_list` with `my_arr`. Print the results. Describe what happens in a comment."
   ]
  },
  {
   "cell_type": "code",
   "execution_count": 15,
   "id": "cae7749f-cc6e-45d6-9e07-72aa2cefc0b6",
   "metadata": {
    "tags": []
   },
   "outputs": [
    {
     "name": "stdout",
     "output_type": "stream",
     "text": [
      "[324 289 256 225 196]\n",
      "[54 68 80 90 98]\n"
     ]
    },
    {
     "ename": "TypeError",
     "evalue": "can't multiply sequence by non-int of type 'list'",
     "output_type": "error",
     "traceback": [
      "\u001b[0;31m---------------------------------------------------------------------------\u001b[0m",
      "\u001b[0;31mTypeError\u001b[0m                                 Traceback (most recent call last)",
      "Cell \u001b[0;32mIn[15], line 4\u001b[0m\n\u001b[1;32m      2\u001b[0m \u001b[38;5;28mprint\u001b[39m(my_arr \u001b[38;5;241m*\u001b[39m my_arr) \u001b[38;5;66;03m# subtracts arrays element-wise\u001b[39;00m\n\u001b[1;32m      3\u001b[0m \u001b[38;5;28mprint\u001b[39m(my_list \u001b[38;5;241m*\u001b[39m my_arr) \u001b[38;5;66;03m# subtracts the list and array element-wise\u001b[39;00m\n\u001b[0;32m----> 4\u001b[0m \u001b[38;5;28mprint\u001b[39m(my_list \u001b[38;5;241m*\u001b[39m my_list)\n",
      "\u001b[0;31mTypeError\u001b[0m: can't multiply sequence by non-int of type 'list'"
     ]
    }
   ],
   "source": [
    "# Your code here\n",
    "print(my_arr * my_arr) # multiplies arrays element-wise\n",
    "print(my_list * my_arr) # multiplies the list and array element-wise\n",
    "print(my_list * my_list) # presents a type error because multiplication is not defined for lists"
   ]
  },
  {
   "cell_type": "markdown",
   "id": "55175f6e-e6b2-41b1-8015-5f1b099664e8",
   "metadata": {},
   "source": [
    "7) Divide `my_list` with `my_list`. Divide `my_arr` with `my_arr`. Divide `my_list` with `my_arr`. Print the results. Describe what happens in a comment."
   ]
  },
  {
   "cell_type": "code",
   "execution_count": 17,
   "id": "ccdc8e13-ec41-4b79-8034-0934c012580e",
   "metadata": {
    "tags": []
   },
   "outputs": [
    {
     "name": "stdout",
     "output_type": "stream",
     "text": [
      "[1. 1. 1. 1. 1.]\n",
      "[0.16666667 0.23529412 0.3125     0.4        0.5       ]\n"
     ]
    },
    {
     "ename": "TypeError",
     "evalue": "unsupported operand type(s) for /: 'list' and 'list'",
     "output_type": "error",
     "traceback": [
      "\u001b[0;31m---------------------------------------------------------------------------\u001b[0m",
      "\u001b[0;31mTypeError\u001b[0m                                 Traceback (most recent call last)",
      "Cell \u001b[0;32mIn[17], line 4\u001b[0m\n\u001b[1;32m      2\u001b[0m \u001b[38;5;28mprint\u001b[39m(my_arr \u001b[38;5;241m/\u001b[39m my_arr) \u001b[38;5;66;03m# divides arrays element-wise\u001b[39;00m\n\u001b[1;32m      3\u001b[0m \u001b[38;5;28mprint\u001b[39m(my_list \u001b[38;5;241m/\u001b[39m my_arr) \u001b[38;5;66;03m# divides the list and array element-wise\u001b[39;00m\n\u001b[0;32m----> 4\u001b[0m \u001b[38;5;28mprint\u001b[39m(my_list \u001b[38;5;241m/\u001b[39m my_list)\n",
      "\u001b[0;31mTypeError\u001b[0m: unsupported operand type(s) for /: 'list' and 'list'"
     ]
    }
   ],
   "source": [
    "# Your code here\n",
    "print(my_arr / my_arr) # divides arrays element-wise\n",
    "print(my_list / my_arr) # divides the list and array element-wise\n",
    "print(my_list / my_list) # presents a type error because division is not defined for lists"
   ]
  },
  {
   "cell_type": "markdown",
   "id": "1fb261e6-b99b-4e36-953a-e899da010469",
   "metadata": {},
   "source": [
    "8) After working through this problem, in at least two sentences, describe the difference between a list and an array."
   ]
  },
  {
   "cell_type": "code",
   "execution_count": 33,
   "id": "d702ddad-c84d-43d5-9fe0-d10b9083bf85",
   "metadata": {},
   "outputs": [],
   "source": [
    "# Your code here\n",
    "\n",
    "# A list can take multiple types of entries (strings, integers, other lists, etc.) while an array only takes in numerical data. This means an array is better to work with for mathematical computations.\n"
   ]
  },
  {
   "cell_type": "markdown",
   "id": "fdbccced-d3f0-4948-be6e-471028979576",
   "metadata": {},
   "source": [
    "## 1.2 Nested List and Multi-Dimensional Arrays\n",
    "A **nested list** is when you have a list as an element for a list. Example:\n",
    "```\n",
    "nested_list = [[1, 2, 3], [4, 5, 6]]\n",
    "```\n",
    "\n",
    "A **multi-dimensional array** is essentially a nested list, but it contains the properties of a matrix. Example:\n",
    "```\n",
    "multi_d_array = np.array([[1, 2, 3], [4, 5, 6]])\n",
    "```\n",
    "\n",
    "Go to this website for more information on NumPy: https://www.w3schools.com/python/numpy/default.asp\n",
    "\n",
    "Write a **function** that takes in a two-dimensional array. Example:\n",
    "\n",
    "```\n",
    "arr3 = np.array([[2, 4, 6], [8, 10, 12], [14, 16, 18]])\n",
    "```\n",
    "\n",
    "and then returns the second value in each row. Example:\n",
    "\n",
    "```\n",
    "[4, 10, 16]\n",
    "```"
   ]
  },
  {
   "cell_type": "code",
   "execution_count": 24,
   "id": "e6d45993-2390-4e2d-bb6e-930919dd7d46",
   "metadata": {
    "tags": []
   },
   "outputs": [
    {
     "data": {
      "text/plain": [
       "[4, 10, 16]"
      ]
     },
     "execution_count": 24,
     "metadata": {},
     "output_type": "execute_result"
    }
   ],
   "source": [
    "# Your code here\n",
    "\n",
    "def second_values(array):\n",
    "    # return the second value from each row\n",
    "    return [row[1] for row in array]\n",
    "\n",
    "arr3 = np.array([[2, 4, 6], [8, 10, 12], [14, 16, 18]])\n",
    "second_values(arr3)"
   ]
  },
  {
   "cell_type": "markdown",
   "id": "e5c0700d-def9-4afe-86f5-0a4b8862c0b4",
   "metadata": {},
   "source": [
    "In 2-3 sentences, describe what section of the website helped you write your function. "
   ]
  },
  {
   "cell_type": "code",
   "execution_count": null,
   "id": "179c2c8d-3493-40a5-931f-7a92be8551a6",
   "metadata": {},
   "outputs": [],
   "source": [
    "# Your comment here\n",
    "# The section of the website on array indexing was what I used to write my function. I combined the idea of array indexing with a for look to loop through thr rows."
   ]
  },
  {
   "cell_type": "markdown",
   "id": "2bee5ead-232c-495c-8e42-1721bd315957",
   "metadata": {},
   "source": [
    "How would you take a nested list and return the second value in each row? Explain in 2-3 sentences and show an example."
   ]
  },
  {
   "cell_type": "code",
   "execution_count": 26,
   "id": "1959a88e-6542-48eb-be91-8ec3b71b9440",
   "metadata": {
    "tags": []
   },
   "outputs": [
    {
     "name": "stdout",
     "output_type": "stream",
     "text": [
      "[2, 5, 8]\n"
     ]
    }
   ],
   "source": [
    "nested_list = [[1, 2, 3], [4, 5, 6], [7, 8, 9]]\n",
    "second_values = [row[1] for row in nested_list]\n",
    "print(second_values)"
   ]
  },
  {
   "cell_type": "markdown",
   "id": "25eaeadc-b09d-4ca8-9849-822879abdad2",
   "metadata": {},
   "source": [
    "## 1.3 Up to You!\n",
    "With the website I just gave you: https://www.w3schools.com/python/numpy/default.asp\n",
    "\n",
    "I recommend working through the examples they provide (you don't have to do all of them, but a few would be good). It will help you build an intuition for numpy. It won't take very long, there are only a couple of examples per section.\n",
    "\n",
    "Write you own **function** that follows the theme of one of the sections (i.e. array reshaping, array filter, random intro, etc). For example, if you are curious about the section \"**NumPy Creating Arrays**\" you could write a function that creates a multi-dimensional array.\n",
    "\n",
    "```\n",
    "\n",
    ">>> def make_multi_dimensional_array(one_d_array, dimensions):\n",
    "...     # Creates a multi-dimensional array\n",
    "...     # Your code here\n",
    "...     return # Your code here\n",
    "\n",
    ">>> my_one_d_array = [2, 4, 6, 8]\n",
    ">>> my_dimension = 10\n",
    ">>> ten_d_array = make_multi_dimensional_array(my_one_d_array, my_dimension)\n",
    ">>> print(ten_d_array)\n",
    "[[[[[[[[[[2 4 6 8]]]]]]]]]]\n",
    "\n",
    "```\n",
    "\n",
    "Your function should be more detailed than the example I gave you. Include at least one of the following: \n",
    "- a conditional statement\n",
    "- an assignment operator\n",
    "- a loop (`for` or `while`)\n",
    "- `if`, `elif`, `else`, statement"
   ]
  },
  {
   "cell_type": "code",
   "execution_count": 33,
   "id": "359f524a-30ee-446c-a6d6-a57faecf5bcb",
   "metadata": {
    "tags": []
   },
   "outputs": [
    {
     "data": {
      "text/plain": [
       "array([[ 3,  6,  9],\n",
       "       [12, 15, 18]])"
      ]
     },
     "execution_count": 33,
     "metadata": {},
     "output_type": "execute_result"
    }
   ],
   "source": [
    "# Your code here\n",
    "def iterate_and_multiply_2d_array(arr, multiplier):\n",
    "    # iterates over each scalar of the array and multiplies it by a multiplier you input\n",
    "    multiplied_array = [] # place to store rows once they are multiplied\n",
    "    for row in arr:\n",
    "        multiplied_row = []  # place to store scalar elements after they are multiplied\n",
    "        for scalar in row:\n",
    "            multiplied_scalar = scalar * multiplier # multiply by given multiplier\n",
    "            multiplied_row.append(multiplied_scalar) # add element to row\n",
    "        \n",
    "        multiplied_array.append(multiplied_row) # add row to array\n",
    "    \n",
    "    return np.array(multiplied_array)\n",
    "\n",
    "\n",
    "arr = np.array([[1, 2, 3], [4, 5, 6]])\n",
    "new_array = iterate_and_multiply_2d_array(arr, 3)\n",
    "new_array"
   ]
  },
  {
   "cell_type": "markdown",
   "id": "88df7c51-0196-42b5-aabf-5068bc6ad675",
   "metadata": {},
   "source": [
    "In the section you took inspiration from, show all of the examples below. Follow good coding practices and give at least two test cases for each example. Don't forget comments! \\\n",
    "\\\n",
    "*For my example, I took inspiration from **NumPy Creating Arrays** so I would show following examples with DIFFERENT test cases: Create a NumPy ndarray Object, Dimensions in Arrays ,0-D Arrays, 1-D Arrays, 2-D Arrays, 3-D Arrays, Check Number of Dimensions, Higher Dimensional Arrays.*"
   ]
  },
  {
   "cell_type": "code",
   "execution_count": 52,
   "id": "193b91b8-de1d-4aee-af90-6a0e10930b55",
   "metadata": {
    "tags": []
   },
   "outputs": [
    {
     "name": "stdout",
     "output_type": "stream",
     "text": [
      "First element of array 1: 1\n",
      "Second element of array 1: 2\n",
      "First element of array 2: 101\n",
      "Second element + third element of array 2: 555\n",
      "Second element on first row of array 3:  2\n",
      "third element on second row of array 3:  8\n",
      "fourth element on second row of array 4:  19\n",
      "fourth element on first row of array 4:  12\n",
      "third element of the second array of the first array in array 5: 6\n",
      "second element of the first array of the second array in array 6: 2\n",
      "Last element from second dimension of array 3:  10\n",
      "Second to last element from first dimension of array 3:  4\n"
     ]
    }
   ],
   "source": [
    "# Your code here\n",
    "\n",
    "# access array elements\n",
    "arr1 = np.array([1, 2, 3, 4])\n",
    "arr2 = np.array([101, 321, 234, 985])\n",
    "print(f\"First element of array 1: {arr1[0]}\") \n",
    "print(f\"Second element of array 1: {arr1[1]}\") \n",
    "print(f\"First element of array 2: {arr2[0]}\") \n",
    "print(f\"Second element + third element of array 2: {arr2[1] + arr2[2]}\")\n",
    "\n",
    "# access 2d arrays\n",
    "arr3 = np.array([[1, 2, 3, 4, 5], \n",
    "                 [6, 7, 8, 9, 10]])\n",
    "arr4 = np.array([[3, 6, 9, 12, 15], \n",
    "                 [16, 17, 18, 19, 20]])\n",
    "print('Second element on first row of array 3: ', arr3[0, 1]) \n",
    "print('third element on second row of array 3: ', arr3[1, 2]) \n",
    "print('fourth element on second row of array 4: ', arr4[1, 3])\n",
    "print('fourth element on first row of array 4: ', arr4[0, 3]) \n",
    "\n",
    "#access 3d arrays\n",
    "arr5 = np.array([[[1, 2, 3], [4, 5, 6]], [[7, 8, 9], [10, 11, 12]]])\n",
    "arr6 = np.array([[[15, 16, 17], [2, 1, 5]], [[1, 2, 5], [3, 1, 4]]])\n",
    "print('third element of the second array of the first array in array 5:', arr5[0, 1, 2])\n",
    "print('second element of the first array of the second array in array 6:', arr6[1, 0, 1]) \n",
    "\n",
    "#negative indexing\n",
    "print('Last element from second dimension of array 3: ', arr3[1, -1]) \n",
    "print('Second to last element from first dimension of array 3: ', arr3[0, -2]) "
   ]
  },
  {
   "cell_type": "markdown",
   "id": "c90148dc-cac4-4322-86ff-5b112bae306f",
   "metadata": {},
   "source": [
    "In 2-3 sentences, describe how your function took inspiration from a section.\\\n",
    "\\\n",
    "*For my example, `make_multi_dimensional_array`, I would talk about the **NumPy Creating Arrays** section and how I took inspiration from the example **Higher Dimensional Arrays**.*"
   ]
  },
  {
   "cell_type": "code",
   "execution_count": 53,
   "id": "fe11ac2d-dcdb-4e51-9460-c3cc1be48bef",
   "metadata": {
    "tags": []
   },
   "outputs": [],
   "source": [
    "# Your comment here\n",
    "\n",
    "# My function took inspiration on this second because I was able to interate down to the scalar in my 2d array much like their example. This way, I was able to perform an operation of each scalar value in the matrix."
   ]
  },
  {
   "cell_type": "markdown",
   "id": "8a834fd4-ef1b-4464-a07a-76e08a1c81c8",
   "metadata": {},
   "source": [
    "# 2 Brianna's Module\n",
    "During lecture we created and worked with a module called `even_sum.py`. Import that module here. "
   ]
  },
  {
   "cell_type": "code",
   "execution_count": 55,
   "id": "66e2a829-e478-4c97-8412-846cd93161f8",
   "metadata": {
    "tags": []
   },
   "outputs": [],
   "source": [
    "# Your code here\n",
    "import even_sum"
   ]
  },
  {
   "cell_type": "markdown",
   "id": "210ee2c2-9b81-4ea4-bbe7-2d1fa94d646e",
   "metadata": {},
   "source": [
    "Now that you have imported the module. Call the module and the first function with your own list of numbers. "
   ]
  },
  {
   "cell_type": "code",
   "execution_count": 57,
   "id": "89ad196d-5948-4e20-899a-d31eebdc4f2a",
   "metadata": {
    "tags": []
   },
   "outputs": [
    {
     "name": "stdout",
     "output_type": "stream",
     "text": [
      "The sum of even numbers is: 60\n"
     ]
    }
   ],
   "source": [
    "# Your code here\n",
    "numbers = [3, 6, 9, 12, 15, 18, 21, 24]\n",
    "even_sum_result = even_sum.sum_even_numbers(numbers)\n",
    "\n",
    "print(\"The sum of even numbers is:\", even_sum_result)"
   ]
  },
  {
   "cell_type": "markdown",
   "id": "110d3cb8-b809-467b-9447-57810e4e3853",
   "metadata": {},
   "source": [
    "I have provided you a separate module called `example.py`. Import that module here."
   ]
  },
  {
   "cell_type": "code",
   "execution_count": 60,
   "id": "092eb2b9-dd15-4fdf-a7a2-ad32cd22ed88",
   "metadata": {
    "tags": []
   },
   "outputs": [],
   "source": [
    "# Your code here\n",
    "import example"
   ]
  },
  {
   "cell_type": "markdown",
   "id": "a6922f89-01e7-41af-82e2-4236daa103b1",
   "metadata": {},
   "source": [
    "With the following variables, use my module to show which of the rocket's escape!"
   ]
  },
  {
   "cell_type": "code",
   "execution_count": 58,
   "id": "6b2e8b39-8441-469a-a128-19b04b8c8a2f",
   "metadata": {
    "tags": []
   },
   "outputs": [],
   "source": [
    "rocket_velocities = np.array([\n",
    "    [1000, 5000, 8000, 12000],  # Rocket 1's velocity at different times\n",
    "    [2000, 6000, 9000, 10000],  # Rocket 2\n",
    "    [3000, 3100, 3200, 3300]    # Rocket 3\n",
    "])\n",
    "\n",
    "mass_of_planet = 5.972e24 # kilograms\n",
    "radius_of_planet = 6.371e6 # meters"
   ]
  },
  {
   "cell_type": "code",
   "execution_count": 62,
   "id": "05196d65-9e31-4cec-ad01-9f9cebe00046",
   "metadata": {
    "tags": []
   },
   "outputs": [
    {
     "name": "stdout",
     "output_type": "stream",
     "text": [
      "Rocket 1: Rocket left the planet!\n",
      "Rocket 2: Rocket is orbiting around the planet.\n",
      "Rocket 3: Rocket crashes back into the planet!\n"
     ]
    }
   ],
   "source": [
    "# Your code here\n",
    "status = example.rocket_launch(rocket_velocities, mass_of_planet, radius_of_planet)\n",
    "\n",
    "#print status\n",
    "for i, status in enumerate(status):\n",
    "    print(f\"Rocket {i+1}: {status}\")"
   ]
  },
  {
   "cell_type": "markdown",
   "id": "9ab3de38-dbd9-438f-a587-67e8777c9c93",
   "metadata": {},
   "source": [
    "In 2-3 sentences describe how this code follows \"good coding practices\" and where there is room for improvement."
   ]
  },
  {
   "cell_type": "code",
   "execution_count": null,
   "id": "94d49892-e1c0-4e6a-b05d-f9ddf3de4b44",
   "metadata": {},
   "outputs": [],
   "source": [
    "# Your comments here\n",
    "\n",
    "# This code follows good coding practices as the function names are descriptive to what the function is doing, each function is throughly described in a comment, and the rest of the function is clean and organized. It could improve by considering restrictions such as limiting masses so that they cannot be negative. "
   ]
  },
  {
   "cell_type": "markdown",
   "id": "2dce5617-a86a-4327-aa99-f29548f3b92c",
   "metadata": {},
   "source": [
    "# 3 Your Turn!\n",
    "Now its your turn to make a module! Choose a topic from a class (could be physics, computer science, nuclear engineering, biology, astronomy, math, or an topic that interests you!) and build a module around it! Look at my module called `example.py` and base your structure around it. Your module NEEDS to include the following.\n",
    "\n",
    "Overall:\n",
    "1) Your module needs to use at least one NumPy function: https://numpy.org/devdocs/reference/routines.math.html\n",
    "2) Your module needs to contain a multi-dimensional array: https://numpy.org/devdocs/reference/arrays.ndarray.html \n",
    "3) Your module needs **at least** three functions that follow good coding practices.\n",
    "4) Inside your function, include comments. Don't forget to describe what the function is doing and what the inputs and outputs are.\n",
    "5) Your module needs either a `for` loop or `while` loop.\n",
    "6) Your module needs an `if`, `elif`, and `else` statement.\n",
    "7) Your module needs at least two assignment variables (`+=`, `*=`, etc).\n",
    "8) Creativity. *If it looks like you plugged this whole thing into ChatGPT, I will take off points. You can use ChatGPT to help you code, but you can't use it to just do your homework for you. That's no fun :(*\n",
    "\n",
    "In 2-3 sentences, describe the topic of your module and its capabilities. "
   ]
  },
  {
   "cell_type": "code",
   "execution_count": null,
   "id": "0db7310e-b286-4ce7-aa0b-c211e243b7d6",
   "metadata": {},
   "outputs": [],
   "source": [
    "# Your comment here\n",
    "\n",
    "# I created a module that will calculate simple special relativity calculations. This includes the lorentz factor, time dilation, and length contraction for a given velocity along with lorentz transformations for position, time events between inertial reference frames."
   ]
  },
  {
   "cell_type": "markdown",
   "id": "f9ec7fbd-1d6d-4c08-8528-e9cdaa7e3f6b",
   "metadata": {},
   "source": [
    "In 2-3 sentences, answer the following. What was the most challenging part of building this module? What did you learn in the process that you can apply to future coding assignments?"
   ]
  },
  {
   "cell_type": "code",
   "execution_count": 30,
   "id": "19898c20-2adb-4011-b95e-1da864f7801a",
   "metadata": {},
   "outputs": [],
   "source": [
    "# Your comment here\n",
    "\n",
    "# Honestly, the most challenging part was coming up with an idea. I settled on this one after looking through my physics 5A notes and figuring I would have found something like this useful. As for the coding itself I found it the most difficult to make a function for the lorentz_transformation but I learned that looking through documentaion for numpy helped which I will use in future coding assignments. "
   ]
  },
  {
   "cell_type": "markdown",
   "id": "85e943ab-1036-46bc-b9fb-da4ab1890816",
   "metadata": {},
   "source": [
    "Once your module is complete, import it here."
   ]
  },
  {
   "cell_type": "code",
   "execution_count": 69,
   "id": "fb9821b1-3cc0-4999-97eb-441571bbd5e1",
   "metadata": {
    "tags": []
   },
   "outputs": [],
   "source": [
    "# Your code here\n",
    "\n",
    "import relativity"
   ]
  },
  {
   "cell_type": "markdown",
   "id": "ac42ebd4-e51b-4be4-aaa7-6c7d550abd30",
   "metadata": {},
   "source": [
    "Call each of your functions in the cell below. Make sure to show the outputs! "
   ]
  },
  {
   "cell_type": "code",
   "execution_count": 81,
   "id": "b63d3d1f-64bd-4dc7-b20f-c562d09c7c92",
   "metadata": {
    "tags": []
   },
   "outputs": [
    {
     "name": "stdout",
     "output_type": "stream",
     "text": [
      "lorentz factor 1: 1.020650177667622\n",
      "lorentz factor 2: 7.088812050083374\n",
      "time dilation 1: 10.20650177667622\n",
      "time dilation 2: 70.88812050083374\n",
      "length contraction 1: 97.97676244814735\n",
      "length contraction 2: 14.106735979665855\n",
      "lorentz transformations 1: [[-1.22478011e+09  2.04130035e+01]\n",
      " [-2.44956022e+09  4.08260070e+01]\n",
      " [-3.67434033e+09  6.12390105e+01]]\n",
      "lorentz transformations 2: [[-4.20784126e+10  1.41776239e+02]\n",
      " [-8.41568252e+10  2.83552477e+02]\n",
      " [-1.26235238e+11  4.25328716e+02]]\n"
     ]
    }
   ],
   "source": [
    "# Your code here\n",
    "velocity_1 = 6e7 #not super close to speed of light\n",
    "velocity_2 = .99 * relativity.SPEED_OF_LIGHT #very close to speed of light (more relativistic contribution)\n",
    "proper_time = 10 #seconds\n",
    "proper_length = 100 #meters\n",
    "events = np.array([[100, 20], [200, 40], [300, 60]])  # Multiple events with (x, t) pairs stored in 2d array\n",
    "\n",
    "lorentz_factor_1 = relativity.lorentz_factor(velocity_1)\n",
    "lorentz_factor_2 = relativity.lorentz_factor(velocity_2)\n",
    "print('lorentz factor 1:', lorentz_factor_1)\n",
    "print('lorentz factor 2:', lorentz_factor_2)\n",
    "\n",
    "time_dilation_1 = relativity.time_dilation(proper_time, velocity_1)\n",
    "time_dilation_2 = relativity.time_dilation(proper_time, velocity_2)\n",
    "print('time dilation 1:', time_dilation_1)\n",
    "print('time dilation 2:', time_dilation_2)\n",
    "\n",
    "length_contraction_1 = relativity.length_contraction(proper_length, velocity_1)\n",
    "length_contraction_2 = relativity.length_contraction(proper_length, velocity_2)\n",
    "print('length contraction 1:', length_contraction_1)\n",
    "print('length contraction 2:', length_contraction_2)\n",
    "\n",
    "lorentz_transformations_1 = relativity.lorentz_transformation(events, velocity_1)\n",
    "lorentz_transformations_2 = relativity.lorentz_transformation(events, velocity_2)\n",
    "print('lorentz transformations 1:', lorentz_transformations_1)\n",
    "print('lorentz transformations 2:', lorentz_transformations_2)"
   ]
  },
  {
   "cell_type": "markdown",
   "id": "8cf33b19-9bca-484e-8129-d8a4896a1bfa",
   "metadata": {},
   "source": [
    "# 4 Proper Submission\n",
    "To recieve full credit for this assignment make sure you do the following:\n",
    "\n",
    "1) Copy this homework assignment from the `ulab_2024` repository into **YOUR** local `homework7` branch. It will contain this notebook and an additional file called `example.py`. \n",
    "   \n",
    "2) Follow the tasks. Make sure to run all the cells so that **all** output is visible. You will get points taken off if your ouputs are not shown!\n",
    "\n",
    "3) Add/commit/push this notebook and **ANY** modules (so you should have `example.py` and your module) used in this homework assignment to your remote `homework7` branch. Make sure to have NOTHING else in your branch (i.e. no previous homeworks or lecture notes).\n",
    "\n",
    "4) Do the following:\n",
    "- Take a screenshot of moving **into or out** of your `homework7` brach, call it `hw7_branch`.\n",
    "- Take a screenshot of calling `ls` in your `homework7` branch, it should only contain items relevent to homework 7, call it `hw7_ls`.\n",
    "- Take a screenshot of adding this assignment to your local `homework7` branch, call it `hw7_add`.\n",
    "- Take a screenshot of committing this assignment to your local `homework7` branch, call it `hw7_commit`.\n",
    "- Take a screenshot of pushing this assignment to your remote `homework7` branch, call it `hw7_push`. \n",
    "\n",
    "6) Include these screenshots in your `homework7` branch. Upload your `homework7` branch to Gradescope!"
   ]
  }
 ],
 "metadata": {
  "kernelspec": {
   "display_name": "Python 3 (ipykernel)",
   "language": "python",
   "name": "python3"
  },
  "language_info": {
   "codemirror_mode": {
    "name": "ipython",
    "version": 3
   },
   "file_extension": ".py",
   "mimetype": "text/x-python",
   "name": "python",
   "nbconvert_exporter": "python",
   "pygments_lexer": "ipython3",
   "version": "3.11.4"
  }
 },
 "nbformat": 4,
 "nbformat_minor": 5
}
